{
 "cells": [
  {
   "cell_type": "code",
   "execution_count": 4,
   "metadata": {},
   "outputs": [],
   "source": [
    "from keybert import KeyBERT\n",
    "import whisper\n",
    "from pydub import AudioSegment\n",
    "import urllib.request\n",
    "import math"
   ]
  },
  {
   "cell_type": "code",
   "execution_count": 5,
   "metadata": {},
   "outputs": [
    {
     "name": "stdout",
     "output_type": "stream",
     "text": [
      "0 --------------------\n"
     ]
    },
    {
     "name": "stderr",
     "output_type": "stream",
     "text": [
      "c:\\Users\\zhang\\AppData\\Local\\Programs\\Python\\Python310\\lib\\site-packages\\whisper\\transcribe.py:78: UserWarning: FP16 is not supported on CPU; using FP32 instead\n",
      "  warnings.warn(\"FP16 is not supported on CPU; using FP32 instead\")\n"
     ]
    },
    {
     "name": "stdout",
     "output_type": "stream",
     "text": [
      " But I think what's different about Bitcoin, in my opinion, is you have two different adoption curves that are going out. You have the adoption of Bitcoin, the asset, and the adoption of Bitcoin, the networks. If you think about the people who are using Bitcoin for remences in El Salvador, Tonga, or Ukraine, these people are not necessarily, you know, visionaries pushing a technology forward because they want, you know, a revolution. They're using it because it's 10 times better in terms of speed, in terms of cost, and it just works. I truly believe like five to ten years from now, we're going to look back at everything that's been created with this technology and be shocked at all the changes that come from it. I mean, I love Club Now. I think what they're doing has had a immense impact on the lightning network overall. Their understanding of liquidity on lightning and their understanding of, you know, the different elements of running a routing node is second to none. One of my favorite parts of the design of Toro is all of the sort of Toro asset stuff happens at the edges of the network. I think a 10X within three years is a total possibility and I might be being, you know, a little bit conservative. Michael Levine is a product manager at Lightning Labs, a company devoted to building the tools to bring Bitcoin to billions. In our conversation, Michael and I discussed the dual adoption curves at Bitcoin. We explored the entire product suite of Lightning Labs and we even discussed tarot and the future of the Lightning Network. I've also added Michael to today's show splits. So if you learn something from today's conversation, the best way you can show your support is by sending in Sats, comments, and questions over the Lightning Network. Michael and I will each receive 50% of the Sats that you send in and we will both be able to read your comments and questions. Just a special shout out, thank you to everyone who has been sending in Sats the last few weeks. It's really cool to be able to share these Sats 50-50 with all the guests that come on the show. So thank you again to all the listeners sending in Sats, comments, and questions. Quick shout out before we get into the episode. Today's show is...\n",
      "[('bitcoin', 0.3667), ('toro', 0.3543), ('network', 0.2918), ('technology', 0.2911), ('revolution', 0.2867)]\n",
      "1 --------------------\n"
     ]
    },
    {
     "name": "stderr",
     "output_type": "stream",
     "text": [
      "c:\\Users\\zhang\\AppData\\Local\\Programs\\Python\\Python310\\lib\\site-packages\\whisper\\transcribe.py:78: UserWarning: FP16 is not supported on CPU; using FP32 instead\n",
      "  warnings.warn(\"FP16 is not supported on CPU; using FP32 instead\")\n"
     ]
    },
    {
     "name": "stdout",
     "output_type": "stream",
     "text": [
      " But I think what's different about Bitcoin, in my opinion, is you have two different adoption curves that are going out. You have the adoption of Bitcoin, the asset, and the adoption of Bitcoin, the networks. If you think about the people who are using Bitcoin for remences in El Salvador, Tonga, or Ukraine, these people are not necessarily, you know, visionaries pushing a technology forward because they want, you know, a revolution. They're using it because it's 10 times better in terms of speed, in terms of cost, and it just works. I truly believe like five to ten years from now, we're going to look back at everything that's been created with this technology and be shocked at all the changes that come from it. I mean, I love Club Now. I think what they're doing has had a immense impact on the lightning network overall. Their understanding of liquidity on lightning and their understanding of, you know, the different elements of running a routing node is second to none. One of my favorite parts of the design of Toro is all of the sort of Toro asset stuff happens at the edges of the network. I think a 10X within three years is a total possibility and I might be being, you know, a little bit conservative. Michael Levine is a product manager at Lightning Labs, a company devoted to building the tools to bring Bitcoin to billions. In our conversation, Michael and I discussed the dual adoption curves at Bitcoin. We explored the entire product suite of Lightning Labs and we even discussed tarot and the future of the Lightning Network. I've also added Michael to today's show splits. So if you learn something from today's conversation, the best way you can show your support is by sending in Sats, comments, and questions over the Lightning Network. Michael and I will each receive 50% of the Sats that you send in and we will both be able to read your comments and questions. Just a special shout out, thank you to everyone who has been sending in Sats the last few weeks. It's really cool to be able to share these Sats 50-50 with all the guests that come on the show. So thank you again to all the listeners sending in Sats, comments, and questions. Quick shout out before we get into the episode. Today's show is...\n",
      "[('bitcoin', 0.3667), ('toro', 0.3543), ('network', 0.2918), ('technology', 0.2911), ('revolution', 0.2867)]\n",
      "2 --------------------\n"
     ]
    },
    {
     "name": "stderr",
     "output_type": "stream",
     "text": [
      "c:\\Users\\zhang\\AppData\\Local\\Programs\\Python\\Python310\\lib\\site-packages\\whisper\\transcribe.py:78: UserWarning: FP16 is not supported on CPU; using FP32 instead\n",
      "  warnings.warn(\"FP16 is not supported on CPU; using FP32 instead\")\n"
     ]
    },
    {
     "name": "stdout",
     "output_type": "stream",
     "text": [
      " But I think what's different about Bitcoin, in my opinion, is you have two different adoption curves that are going out. You have the adoption of Bitcoin, the asset, and the adoption of Bitcoin, the networks. If you think about the people who are using Bitcoin for remences in El Salvador, Tonga, or Ukraine, these people are not necessarily, you know, visionaries pushing a technology forward because they want, you know, a revolution. They're using it because it's 10 times better in terms of speed, in terms of cost, and it just works. I truly believe like five to ten years from now, we're going to look back at everything that's been created with this technology and be shocked at all the changes that come from it. I mean, I love Club Now. I think what they're doing has had a immense impact on the lightning network overall. Their understanding of liquidity on lightning and their understanding of, you know, the different elements of running a routing node is second to none. One of my favorite parts of the design of Toro is all of the sort of Toro asset stuff happens at the edges of the network. I think a 10X within three years is a total possibility and I might be being, you know, a little bit conservative. Michael Levine is a product manager at Lightning Labs, a company devoted to building the tools to bring Bitcoin to billions. In our conversation, Michael and I discussed the dual adoption curves at Bitcoin. We explored the entire product suite of Lightning Labs and we even discussed tarot and the future of the Lightning Network. I've also added Michael to today's show splits. So if you learn something from today's conversation, the best way you can show your support is by sending in Sats, comments, and questions over the Lightning Network. Michael and I will each receive 50% of the Sats that you send in and we will both be able to read your comments and questions. Just a special shout out, thank you to everyone who has been sending in Sats the last few weeks. It's really cool to be able to share these Sats 50-50 with all the guests that come on the show. So thank you again to all the listeners sending in Sats, comments, and questions. Quick shout out before we get into the episode. Today's show is...\n",
      "[('bitcoin', 0.3667), ('toro', 0.3543), ('network', 0.2918), ('technology', 0.2911), ('revolution', 0.2867)]\n",
      "3 --------------------\n"
     ]
    },
    {
     "name": "stderr",
     "output_type": "stream",
     "text": [
      "c:\\Users\\zhang\\AppData\\Local\\Programs\\Python\\Python310\\lib\\site-packages\\whisper\\transcribe.py:78: UserWarning: FP16 is not supported on CPU; using FP32 instead\n",
      "  warnings.warn(\"FP16 is not supported on CPU; using FP32 instead\")\n"
     ]
    },
    {
     "name": "stdout",
     "output_type": "stream",
     "text": [
      " But I think what's different about Bitcoin, in my opinion, is you have two different adoption curves that are going out. You have the adoption of Bitcoin, the asset, and the adoption of Bitcoin, the networks. If you think about the people who are using Bitcoin for remences in El Salvador, Tonga, or Ukraine, these people are not necessarily, you know, visionaries pushing a technology forward because they want, you know, a revolution. They're using it because it's 10 times better in terms of speed, in terms of cost, and it just works. I truly believe like five to ten years from now, we're going to look back at everything that's been created with this technology and be shocked at all the changes that come from it. I mean, I love Club Now. I think what they're doing has had a immense impact on the lightning network overall. Their understanding of liquidity on lightning and their understanding of, you know, the different elements of running a routing node is second to none. One of my favorite parts of the design of Toro is all of the sort of Toro asset stuff happens at the edges of the network. I think a 10X within three years is a total possibility and I might be being, you know, a little bit conservative. Michael Levine is a product manager at Lightning Labs, a company devoted to building the tools to bring Bitcoin to billions. In our conversation, Michael and I discussed the dual adoption curves at Bitcoin. We explored the entire product suite of Lightning Labs and we even discussed tarot and the future of the Lightning Network. I've also added Michael to today's show splits. So if you learn something from today's conversation, the best way you can show your support is by sending in Sats, comments, and questions over the Lightning Network. Michael and I will each receive 50% of the Sats that you send in and we will both be able to read your comments and questions. Just a special shout out, thank you to everyone who has been sending in Sats the last few weeks. It's really cool to be able to share these Sats 50-50 with all the guests that come on the show. So thank you again to all the listeners sending in Sats, comments, and questions. Quick shout out before we get into the episode. Today's show is...\n",
      "[('bitcoin', 0.3667), ('toro', 0.3543), ('network', 0.2918), ('technology', 0.2911), ('revolution', 0.2867)]\n",
      "4 --------------------\n"
     ]
    },
    {
     "name": "stderr",
     "output_type": "stream",
     "text": [
      "c:\\Users\\zhang\\AppData\\Local\\Programs\\Python\\Python310\\lib\\site-packages\\whisper\\transcribe.py:78: UserWarning: FP16 is not supported on CPU; using FP32 instead\n",
      "  warnings.warn(\"FP16 is not supported on CPU; using FP32 instead\")\n"
     ]
    },
    {
     "name": "stdout",
     "output_type": "stream",
     "text": [
      " But I think what's different about Bitcoin, in my opinion, is you have two different adoption curves that are going out. You have the adoption of Bitcoin, the asset, and the adoption of Bitcoin, the networks. If you think about the people who are using Bitcoin for remences in El Salvador, Tonga, or Ukraine, these people are not necessarily, you know, visionaries pushing a technology forward because they want, you know, a revolution. They're using it because it's 10 times better in terms of speed, in terms of cost, and it just works. I truly believe like five to ten years from now, we're going to look back at everything that's been created with this technology and be shocked at all the changes that come from it. I mean, I love Club Now. I think what they're doing has had a immense impact on the lightning network overall. Their understanding of liquidity on lightning and their understanding of, you know, the different elements of running a routing node is second to none. One of my favorite parts of the design of Toro is all of the sort of Toro asset stuff happens at the edges of the network. I think a 10X within three years is a total possibility and I might be being, you know, a little bit conservative. Michael Levine is a product manager at Lightning Labs, a company devoted to building the tools to bring Bitcoin to billions. In our conversation, Michael and I discussed the dual adoption curves at Bitcoin. We explored the entire product suite of Lightning Labs and we even discussed tarot and the future of the Lightning Network. I've also added Michael to today's show splits. So if you learn something from today's conversation, the best way you can show your support is by sending in Sats, comments, and questions over the Lightning Network. Michael and I will each receive 50% of the Sats that you send in and we will both be able to read your comments and questions. Just a special shout out, thank you to everyone who has been sending in Sats the last few weeks. It's really cool to be able to share these Sats 50-50 with all the guests that come on the show. So thank you again to all the listeners sending in Sats, comments, and questions. Quick shout out before we get into the episode. Today's show is...\n",
      "[('bitcoin', 0.3667), ('toro', 0.3543), ('network', 0.2918), ('technology', 0.2911), ('revolution', 0.2867)]\n"
     ]
    }
   ],
   "source": [
    "AUDIO_URL = \"https://stakwork-uploads-dev.s3.amazonaws.com/short_ep_48_kevin_rooke.mp3\"\n",
    "filebasename = \"audio\"\n",
    "model = whisper.load_model(\"base\")\n",
    "kw_model = KeyBERT()\n",
    "\n",
    "# Download audio file\n",
    "urllib.request.urlretrieve(AUDIO_URL, filebasename + \".mp3\")\n",
    "\n",
    "# Convert audio file\n",
    "sound = AudioSegment.from_mp3(filebasename + \".mp3\")\n",
    "sound.export(filebasename + \".wav\", format=\"wav\")\n",
    "\n",
    "# Split audio (currently just into 30 second segments)\n",
    "total_segments = math.ceil(sound.duration_seconds / 30)\n",
    "for i in range(total_segments):\n",
    "      t1 = i * 30 * 1000\n",
    "      t2 = (i+1) * 30 * 1000\n",
    "      temp = sound[t1:t2]\n",
    "      temp.export(\"temp_audio.wav\", format=\"wav\")\n",
    "\n",
    "      print(i, \"-\"*20)\n",
    "      transcript = model.transcribe(\"audio.mp3\")\n",
    "      print(transcript[\"text\"])\n",
    "\n",
    "      keywords = kw_model.extract_keywords(transcript[\"text\"])\n",
    "      print(keywords)"
   ]
  }
 ],
 "metadata": {
  "kernelspec": {
   "display_name": "Python 3.10.4 64-bit",
   "language": "python",
   "name": "python3"
  },
  "language_info": {
   "codemirror_mode": {
    "name": "ipython",
    "version": 3
   },
   "file_extension": ".py",
   "mimetype": "text/x-python",
   "name": "python",
   "nbconvert_exporter": "python",
   "pygments_lexer": "ipython3",
   "version": "3.10.4"
  },
  "orig_nbformat": 4,
  "vscode": {
   "interpreter": {
    "hash": "b8bea28108f2038d71d6c55dc1832caea8e99369792fc8ba76ab47212ed27435"
   }
  }
 },
 "nbformat": 4,
 "nbformat_minor": 2
}
