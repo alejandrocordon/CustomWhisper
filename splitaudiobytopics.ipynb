{
 "cells": [
  {
   "cell_type": "code",
   "execution_count": 18,
   "metadata": {},
   "outputs": [],
   "source": [
    "import os\n",
    "\n",
    "from keybert import KeyBERT\n",
    "import whisper\n",
    "import urllib.request\n",
    "from pydub import AudioSegment\n",
    "from pydub.silence import split_on_silence"
   ]
  },
  {
   "cell_type": "code",
   "execution_count": 19,
   "metadata": {},
   "outputs": [
    {
     "data": {
      "text/plain": "<_io.BufferedRandom name='audio.wav'>"
     },
     "execution_count": 17,
     "metadata": {},
     "output_type": "execute_result"
    },
    {
     "data": {
      "text/plain": "<_io.BufferedRandom name='audio.wav'>"
     },
     "execution_count": 19,
     "metadata": {},
     "output_type": "execute_result"
    }
   ],
   "source": [
    "# Configurations\n",
    "\n",
    "# anything under SILENT_TRESH dBFS is considered silence\n",
    "# if clips duration are so long, SILENT_TRESH must be a lower value (between 60 an 85 must be ok)\n",
    "SILENT_TRESH = 60\n",
    "MAX_LOCAL_TOPICS = 4\n",
    "LANGUAGE = \"English\"\n",
    "\n",
    "\n",
    "# AUDIO_URL = \"https://stakwork-uploads-dev.s3.amazonaws.com/short_ep_48_kevin_rooke.mp3\"\n",
    "AUDIO_URL = \"https://soundcloud.com/bitcoin-podcast/corb-lund-the-bitcoin-cowboy?si=aea5659804774d60827f98bd5f4db427&utm_source=clipboard&utm_medium=text&utm_campaign=social_sharing\"\n",
    "\n",
    "filebasename = \"audio\"\n",
    "\n",
    "#inits\n",
    "model = whisper.load_model(\"base\")\n",
    "kw_model = KeyBERT()\n",
    "\n",
    "# Download audio file\n",
    "urllib.request.urlretrieve(AUDIO_URL, filebasename + \".mp3\")\n",
    "\n",
    "# Convert audio file\n",
    "# sound = AudioSegment.from_mp3(filebasename + \".mp3\")\n",
    "sound = AudioSegment.from_mp3(\"btccowboy\" + \".mp3\")\n",
    "sound.export(filebasename + \".wav\", format=\"wav\")\n"
   ]
  },
  {
   "cell_type": "code",
   "execution_count": 20,
   "outputs": [
    {
     "name": "stdout",
     "output_type": "stream",
     "text": [
      "THIS PROCESS COULD TAKE LONG, PLEASE BE PATIENT!\n",
      "DONE!\n"
     ]
    }
   ],
   "source": [
    "#remove old chunks in folder\n",
    "mydir=\"./\"\n",
    "for f in os.listdir(mydir):\n",
    "    if not f.startswith(\"chunk\"):\n",
    "        continue\n",
    "    os.remove(f)\n",
    "\n",
    "#Splittin audio in silences\n",
    "finalList = []\n",
    "print(\"THIS PROCESS COULD TAKE LONG, PLEASE BE PATIENT!\")\n",
    "audio_chunks = split_on_silence(sound, silence_thresh=-SILENT_TRESH)\n",
    "print(\"DONE!\")"
   ],
   "metadata": {
    "collapsed": false
   }
  },
  {
   "cell_type": "code",
   "execution_count": 21,
   "outputs": [
    {
     "name": "stdout",
     "output_type": "stream",
     "text": [
      "original sound duration: 2065.031836734694\n",
      "totalduraton: 2012.0889795918372\n"
     ]
    }
   ],
   "source": [
    "totalduration = 0\n",
    "for chunk in audio_chunks:\n",
    "    totalduration += chunk.duration_seconds\n",
    "print(\"original sound duration:\", sound.duration_seconds)\n",
    "print(\"totalduraton:\", totalduration)"
   ],
   "metadata": {
    "collapsed": false
   }
  },
  {
   "cell_type": "code",
   "execution_count": 22,
   "outputs": [
    {
     "name": "stderr",
     "output_type": "stream",
     "text": [
      "100%|██████████| 8010/8010 [00:06<00:00, 1275.20frames/s]\n"
     ]
    },
    {
     "name": "stdout",
     "output_type": "stream",
     "text": [
      "chunk  0  duration  80.10498866213152  topics:  ['corb', 'bitcoin', 'podcast', 'listening']\n"
     ]
    },
    {
     "name": "stderr",
     "output_type": "stream",
     "text": [
      "100%|██████████| 1769/1769 [00:02<00:00, 835.72frames/s]\n"
     ]
    },
    {
     "name": "stdout",
     "output_type": "stream",
     "text": [
      "chunk  1  duration  17.697006802721088  topics:  ['music', 'london', 'corb', 'doing']\n"
     ]
    },
    {
     "name": "stderr",
     "output_type": "stream",
     "text": [
      "100%|██████████| 9321/9321 [00:09<00:00, 938.83frames/s] \n"
     ]
    },
    {
     "name": "stdout",
     "output_type": "stream",
     "text": [
      "chunk  2  duration  93.21600907029479  topics:  ['music', 'radio', 'songwriting', 'underground']\n"
     ]
    },
    {
     "name": "stderr",
     "output_type": "stream",
     "text": [
      "100%|██████████| 6124/6124 [00:05<00:00, 1222.12frames/s]\n"
     ]
    },
    {
     "name": "stdout",
     "output_type": "stream",
     "text": [
      "chunk  3  duration  61.2409977324263  topics:  ['audience', 'culturally', 'diverse', 'music']\n"
     ]
    },
    {
     "name": "stderr",
     "output_type": "stream",
     "text": [
      "100%|██████████| 1463/1463 [00:02<00:00, 678.46frames/s]\n"
     ]
    },
    {
     "name": "stdout",
     "output_type": "stream",
     "text": [
      "chunk  4  duration  14.63498866213152  topics:  ['canada', 'japan', 'australia', 'uk']\n"
     ]
    },
    {
     "name": "stderr",
     "output_type": "stream",
     "text": [
      "100%|██████████| 15640/15640 [00:13<00:00, 1146.99frames/s]\n"
     ]
    },
    {
     "name": "stdout",
     "output_type": "stream",
     "text": [
      "chunk  5  duration  156.40201814058958  topics:  ['music', 'listening', 'bluegrass', 'rock']\n"
     ]
    },
    {
     "name": "stderr",
     "output_type": "stream",
     "text": [
      "100%|██████████| 645/645 [00:00<00:00, 824.98frames/s]\n"
     ]
    },
    {
     "name": "stdout",
     "output_type": "stream",
     "text": [
      "chunk  6  duration  6.458004535147392  topics:  ['democratic', 'fork', 'source', 'really']\n"
     ]
    },
    {
     "name": "stderr",
     "output_type": "stream",
     "text": [
      "100%|██████████| 561/561 [00:00<00:00, 901.30frames/s]\n"
     ]
    },
    {
     "name": "stdout",
     "output_type": "stream",
     "text": [
      "chunk  7  duration  5.618004535147392  topics:  ['watch', 'interesting', 'going', 'think']\n"
     ]
    },
    {
     "name": "stderr",
     "output_type": "stream",
     "text": [
      "100%|██████████| 3971/3971 [00:04<00:00, 926.24frames/s] \n"
     ]
    },
    {
     "name": "stdout",
     "output_type": "stream",
     "text": [
      "chunk  8  duration  39.71  topics:  ['bitcoin', 'cryptocurrencies', 'investing', 'future']\n"
     ]
    },
    {
     "name": "stderr",
     "output_type": "stream",
     "text": [
      "100%|██████████| 8667/8667 [00:08<00:00, 1065.56frames/s]\n"
     ]
    },
    {
     "name": "stdout",
     "output_type": "stream",
     "text": [
      "chunk  9  duration  86.6780045351474  topics:  ['casino', 'cryptocurrencies', 'transactions', 'vegas']\n"
     ]
    },
    {
     "name": "stderr",
     "output_type": "stream",
     "text": [
      "100%|██████████| 14633/14633 [00:14<00:00, 998.33frames/s] \n"
     ]
    },
    {
     "name": "stdout",
     "output_type": "stream",
     "text": [
      "chunk  10  duration  146.33700680272108  topics:  ['technologies', 'mp3s', 'ip3s', 'tech']\n"
     ]
    },
    {
     "name": "stderr",
     "output_type": "stream",
     "text": [
      "100%|██████████| 2060/2060 [00:02<00:00, 736.24frames/s]\n"
     ]
    },
    {
     "name": "stdout",
     "output_type": "stream",
     "text": [
      "chunk  11  duration  20.60800453514739  topics:  ['bitcoin', 'learn', 'say', 'regulated']\n"
     ]
    },
    {
     "name": "stderr",
     "output_type": "stream",
     "text": [
      "100%|██████████| 8536/8536 [00:08<00:00, 981.04frames/s] \n"
     ]
    },
    {
     "name": "stdout",
     "output_type": "stream",
     "text": [
      "chunk  12  duration  85.36600907029478  topics:  ['uber', 'bitcoin', 'cryptocurrencies', 'banking']\n"
     ]
    },
    {
     "name": "stderr",
     "output_type": "stream",
     "text": [
      "100%|██████████| 10480/10480 [00:11<00:00, 893.35frames/s] \n"
     ]
    },
    {
     "name": "stdout",
     "output_type": "stream",
     "text": [
      "chunk  13  duration  104.8  topics:  ['bitcoin', 'coin', 'odds', 'funny']\n"
     ]
    },
    {
     "name": "stderr",
     "output_type": "stream",
     "text": [
      "100%|██████████| 6518/6518 [00:09<00:00, 691.15frames/s] \n"
     ]
    },
    {
     "name": "stdout",
     "output_type": "stream",
     "text": [
      "chunk  14  duration  65.1809977324263  topics:  ['debt', 'globalized', 'trillion', 'ledger']\n"
     ]
    },
    {
     "name": "stderr",
     "output_type": "stream",
     "text": [
      "100%|██████████| 1221/1221 [00:01<00:00, 740.71frames/s]\n"
     ]
    },
    {
     "name": "stdout",
     "output_type": "stream",
     "text": [
      "chunk  15  duration  12.21700680272109  topics:  ['currency', 'inflation', 'civilizations', 'historically']\n"
     ]
    },
    {
     "name": "stderr",
     "output_type": "stream",
     "text": [
      "100%|██████████| 6338/6338 [00:06<00:00, 926.22frames/s] \n"
     ]
    },
    {
     "name": "stdout",
     "output_type": "stream",
     "text": [
      "chunk  16  duration  63.3809977324263  topics:  ['venezuela', 'euro', 'bitcoin', 'greece']\n"
     ]
    },
    {
     "name": "stderr",
     "output_type": "stream",
     "text": [
      "100%|██████████| 1594/1594 [00:02<00:00, 690.54frames/s]\n"
     ]
    },
    {
     "name": "stdout",
     "output_type": "stream",
     "text": [
      "chunk  17  duration  15.945986394557822  topics:  ['shopify', 'coin', 'definitely', 'transactions']\n"
     ]
    },
    {
     "name": "stderr",
     "output_type": "stream",
     "text": [
      "100%|██████████| 3260/3260 [00:03<00:00, 1062.29frames/s]\n"
     ]
    },
    {
     "name": "stdout",
     "output_type": "stream",
     "text": [
      "chunk  18  duration  32.608004535147394  topics:  ['purchasing', 'amazon', 'buy', 'bitcoin']\n"
     ]
    },
    {
     "name": "stderr",
     "output_type": "stream",
     "text": [
      "100%|██████████| 5319/5319 [00:04<00:00, 1172.77frames/s]\n"
     ]
    },
    {
     "name": "stdout",
     "output_type": "stream",
     "text": [
      "chunk  19  duration  53.19  topics:  ['bitcoin', 'shopify', 'investing', 'rural']\n"
     ]
    },
    {
     "name": "stderr",
     "output_type": "stream",
     "text": [
      "100%|██████████| 1271/1271 [00:01<00:00, 663.64frames/s]\n"
     ]
    },
    {
     "name": "stdout",
     "output_type": "stream",
     "text": [
      "chunk  20  duration  12.71498866213152  topics:  ['theorem', 'smart', 'mainstream', 'asking']\n"
     ]
    },
    {
     "name": "stderr",
     "output_type": "stream",
     "text": [
      "100%|██████████| 5451/5451 [00:13<00:00, 390.42frames/s] \n"
     ]
    },
    {
     "name": "stdout",
     "output_type": "stream",
     "text": [
      "chunk  21  duration  54.5190022675737  topics:  ['bitcoin', 'fork', 'crypto', 'blockchain']\n"
     ]
    },
    {
     "name": "stderr",
     "output_type": "stream",
     "text": [
      "100%|██████████| 899/899 [00:01<00:00, 879.13frames/s]\n"
     ]
    },
    {
     "name": "stdout",
     "output_type": "stream",
     "text": [
      "chunk  22  duration  8.994988662131519  topics:  ['bitcoin', 'cash', 'future', 'predictions']\n"
     ]
    },
    {
     "name": "stderr",
     "output_type": "stream",
     "text": [
      "100%|██████████| 4092/4092 [00:04<00:00, 928.56frames/s] \n"
     ]
    },
    {
     "name": "stdout",
     "output_type": "stream",
     "text": [
      "chunk  23  duration  40.92299319727891  topics:  ['bitcoin', 'cash', 'decimal', 'grade']\n"
     ]
    },
    {
     "name": "stderr",
     "output_type": "stream",
     "text": [
      "100%|██████████| 9742/9742 [00:08<00:00, 1099.44frames/s]\n"
     ]
    },
    {
     "name": "stdout",
     "output_type": "stream",
     "text": [
      "chunk  24  duration  97.42501133786848  topics:  ['slowing', 'core', 'lag', 'transactions']\n"
     ]
    },
    {
     "name": "stderr",
     "output_type": "stream",
     "text": [
      "100%|██████████| 533/533 [00:00<00:00, 909.00frames/s]\n"
     ]
    },
    {
     "name": "stdout",
     "output_type": "stream",
     "text": [
      "chunk  25  duration  5.3349886621315195  topics:  ['hope', 'sad', 'feel', 'actually']\n"
     ]
    },
    {
     "name": "stderr",
     "output_type": "stream",
     "text": [
      "100%|██████████| 11945/11945 [00:12<00:00, 958.22frames/s]\n"
     ]
    },
    {
     "name": "stdout",
     "output_type": "stream",
     "text": [
      "chunk  26  duration  119.45897959183674  topics:  ['bitcoin', 'cryptocurrencies', 'slowed', 'growth']\n"
     ]
    },
    {
     "name": "stderr",
     "output_type": "stream",
     "text": [
      "100%|██████████| 273/273 [00:02<00:00, 100.92frames/s]\n"
     ]
    },
    {
     "name": "stdout",
     "output_type": "stream",
     "text": [
      "chunk  27  duration  2.7380045351473923  topics:  ['art', 'did', 'yo', 'say']\n"
     ]
    },
    {
     "name": "stderr",
     "output_type": "stream",
     "text": [
      "100%|██████████| 3135/3135 [00:02<00:00, 1109.24frames/s]\n"
     ]
    },
    {
     "name": "stdout",
     "output_type": "stream",
     "text": [
      "chunk  28  duration  31.352993197278913  topics:  ['split', 'double', 'court', 'bigger']\n"
     ]
    },
    {
     "name": "stderr",
     "output_type": "stream",
     "text": [
      "100%|██████████| 1517/1517 [00:08<00:00, 172.54frames/s]\n"
     ]
    },
    {
     "name": "stdout",
     "output_type": "stream",
     "text": [
      "chunk  29  duration  15.173990929705216  topics:  ['bandwidth', 'segwit', 'narrow', 'bigger']\n"
     ]
    },
    {
     "name": "stderr",
     "output_type": "stream",
     "text": [
      "100%|██████████| 18334/18334 [00:20<00:00, 896.74frames/s]\n"
     ]
    },
    {
     "name": "stdout",
     "output_type": "stream",
     "text": [
      "chunk  30  duration  183.3429931972789  topics:  ['crises', 'bitcoin', 'hopefully', 'happening']\n"
     ]
    },
    {
     "name": "stderr",
     "output_type": "stream",
     "text": [
      "100%|██████████| 9114/9114 [00:10<00:00, 883.58frames/s]\n"
     ]
    },
    {
     "name": "stdout",
     "output_type": "stream",
     "text": [
      "chunk  31  duration  91.14501133786848  topics:  ['bitcoin', 'talk', 'say', 'money']\n"
     ]
    },
    {
     "name": "stderr",
     "output_type": "stream",
     "text": [
      "100%|██████████| 6295/6295 [00:06<00:00, 975.42frames/s] \n"
     ]
    },
    {
     "name": "stdout",
     "output_type": "stream",
     "text": [
      "chunk  32  duration  62.959002267573695  topics:  ['bitcoin', 'fascinating', 'watching', 'watch']\n"
     ]
    },
    {
     "name": "stderr",
     "output_type": "stream",
     "text": [
      "100%|██████████| 1522/1522 [00:02<00:00, 660.45frames/s]\n"
     ]
    },
    {
     "name": "stdout",
     "output_type": "stream",
     "text": [
      "chunk  33  duration  15.229002267573696  topics:  ['spotify', 'sure', 'records', 'corvlund']\n"
     ]
    },
    {
     "name": "stderr",
     "output_type": "stream",
     "text": [
      "100%|██████████| 1228/1228 [00:01<00:00, 618.45frames/s]\n"
     ]
    },
    {
     "name": "stdout",
     "output_type": "stream",
     "text": [
      "chunk  34  duration  12.280997732426304  topics:  ['touring', 'tour', 'songs', 'going']\n"
     ]
    },
    {
     "name": "stderr",
     "output_type": "stream",
     "text": [
      "100%|██████████| 954/954 [00:03<00:00, 283.15frames/s]\n"
     ]
    },
    {
     "name": "stdout",
     "output_type": "stream",
     "text": [
      "chunk  35  duration  9.549002267573696  topics:  ['tour', 'eastern', 'montana', 'weekend']\n"
     ]
    },
    {
     "name": "stderr",
     "output_type": "stream",
     "text": [
      "100%|██████████| 66/66 [00:00<00:00, 149.28frames/s]\n"
     ]
    },
    {
     "name": "stdout",
     "output_type": "stream",
     "text": [
      "chunk  36  duration  0.6619954648526077  topics:  ['okay', 'll']\n"
     ]
    },
    {
     "name": "stderr",
     "output_type": "stream",
     "text": [
      "100%|██████████| 1544/1544 [00:04<00:00, 372.63frames/s]\n"
     ]
    },
    {
     "name": "stdout",
     "output_type": "stream",
     "text": [
      "chunk  37  duration  15.444013605442176  topics:  ['bitcoin', 'joining', 'podcast', 'join']\n"
     ]
    },
    {
     "name": "stderr",
     "output_type": "stream",
     "text": [
      "100%|██████████| 3969/3969 [00:04<00:00, 794.26frames/s]\n"
     ]
    },
    {
     "name": "stdout",
     "output_type": "stream",
     "text": [
      "chunk  38  duration  39.69199546485261  topics:  ['jennings', 'musician', 'musicians', 'artist']\n"
     ]
    },
    {
     "name": "stderr",
     "output_type": "stream",
     "text": [
      "100%|██████████| 346/346 [00:00<00:00, 681.10frames/s]\n"
     ]
    },
    {
     "name": "stdout",
     "output_type": "stream",
     "text": [
      "chunk  39  duration  3.461995464852608  topics:  ['moon', 'right']\n"
     ]
    },
    {
     "name": "stderr",
     "output_type": "stream",
     "text": [
      "100%|██████████| 2829/2829 [00:01<00:00, 1538.75frames/s]"
     ]
    },
    {
     "name": "stdout",
     "output_type": "stream",
     "text": [
      "chunk  40  duration  28.29299319727891  topics:  ['bitcoin', 'wallet', 'podcast', 'satoshi']\n"
     ]
    },
    {
     "name": "stderr",
     "output_type": "stream",
     "text": [
      "\n"
     ]
    }
   ],
   "source": [
    "chunk_topic_list=[]\n",
    "for i, chunk in enumerate(audio_chunks):\n",
    "   out_file = \"chunk{0}.wav\".format(i)\n",
    "   chunk.export(out_file, format=\"wav\")\n",
    "   transcriptLocal = model.transcribe(out_file, fp16=False, max_initial_timestamp=None, verbose=False, language=LANGUAGE)\n",
    "   keywordsLocal = kw_model.extract_keywords(transcriptLocal[\"text\"], top_n=MAX_LOCAL_TOPICS)\n",
    "   local_topics=[]\n",
    "   for j in range(len(keywordsLocal)):\n",
    "       if j <= MAX_LOCAL_TOPICS:\n",
    "          local_topics.append(keywordsLocal[j][0])\n",
    "\n",
    "   print(\"chunk \", i , \" duration \", chunk.duration_seconds, \" topics: \",local_topics )\n",
    "   chunk_topic_list.append([i,chunk,local_topics])\n"
   ],
   "metadata": {
    "collapsed": false
   }
  },
  {
   "cell_type": "code",
   "execution_count": 23,
   "outputs": [
    {
     "name": "stdout",
     "output_type": "stream",
     "text": [
      "chunk  0  duration  80.10498866213152  topics:  ['corb', 'bitcoin', 'podcast', 'listening']\n",
      "chunk  1  duration  17.697006802721088  topics:  ['music', 'london', 'corb', 'doing']\n",
      "chunk  2  duration  93.21600907029479  topics:  ['music', 'radio', 'songwriting', 'underground']\n",
      "chunk  3  duration  61.2409977324263  topics:  ['audience', 'culturally', 'diverse', 'music']\n",
      "chunk  4  duration  14.63498866213152  topics:  ['canada', 'japan', 'australia', 'uk']\n",
      "chunk  5  duration  156.40201814058958  topics:  ['music', 'listening', 'bluegrass', 'rock']\n",
      "chunk  6  duration  6.458004535147392  topics:  ['democratic', 'fork', 'source', 'really']\n",
      "chunk  7  duration  5.618004535147392  topics:  ['watch', 'interesting', 'going', 'think']\n",
      "chunk  8  duration  39.71  topics:  ['bitcoin', 'cryptocurrencies', 'investing', 'future']\n",
      "chunk  9  duration  86.6780045351474  topics:  ['casino', 'cryptocurrencies', 'transactions', 'vegas']\n",
      "chunk  10  duration  146.33700680272108  topics:  ['technologies', 'mp3s', 'ip3s', 'tech']\n",
      "chunk  11  duration  20.60800453514739  topics:  ['bitcoin', 'learn', 'say', 'regulated']\n",
      "chunk  12  duration  85.36600907029478  topics:  ['uber', 'bitcoin', 'cryptocurrencies', 'banking']\n",
      "chunk  13  duration  104.8  topics:  ['bitcoin', 'coin', 'odds', 'funny']\n",
      "chunk  14  duration  65.1809977324263  topics:  ['debt', 'globalized', 'trillion', 'ledger']\n",
      "chunk  15  duration  12.21700680272109  topics:  ['currency', 'inflation', 'civilizations', 'historically']\n",
      "chunk  16  duration  63.3809977324263  topics:  ['venezuela', 'euro', 'bitcoin', 'greece']\n",
      "chunk  17  duration  15.945986394557822  topics:  ['shopify', 'coin', 'definitely', 'transactions']\n",
      "chunk  18  duration  32.608004535147394  topics:  ['purchasing', 'amazon', 'buy', 'bitcoin']\n",
      "chunk  19  duration  53.19  topics:  ['bitcoin', 'shopify', 'investing', 'rural']\n",
      "chunk  20  duration  12.71498866213152  topics:  ['theorem', 'smart', 'mainstream', 'asking']\n",
      "chunk  21  duration  54.5190022675737  topics:  ['bitcoin', 'fork', 'crypto', 'blockchain']\n",
      "chunk  22  duration  8.994988662131519  topics:  ['bitcoin', 'cash', 'future', 'predictions']\n",
      "chunk  23  duration  40.92299319727891  topics:  ['bitcoin', 'cash', 'decimal', 'grade']\n",
      "chunk  24  duration  97.42501133786848  topics:  ['slowing', 'core', 'lag', 'transactions']\n",
      "chunk  25  duration  5.3349886621315195  topics:  ['hope', 'sad', 'feel', 'actually']\n",
      "chunk  26  duration  119.45897959183674  topics:  ['bitcoin', 'cryptocurrencies', 'slowed', 'growth']\n",
      "chunk  27  duration  2.7380045351473923  topics:  ['art', 'did', 'yo', 'say']\n",
      "chunk  28  duration  31.352993197278913  topics:  ['split', 'double', 'court', 'bigger']\n",
      "chunk  29  duration  15.173990929705216  topics:  ['bandwidth', 'segwit', 'narrow', 'bigger']\n",
      "chunk  30  duration  183.3429931972789  topics:  ['crises', 'bitcoin', 'hopefully', 'happening']\n",
      "chunk  31  duration  91.14501133786848  topics:  ['bitcoin', 'talk', 'say', 'money']\n",
      "chunk  32  duration  62.959002267573695  topics:  ['bitcoin', 'fascinating', 'watching', 'watch']\n",
      "chunk  33  duration  15.229002267573696  topics:  ['spotify', 'sure', 'records', 'corvlund']\n",
      "chunk  34  duration  12.280997732426304  topics:  ['touring', 'tour', 'songs', 'going']\n",
      "chunk  35  duration  9.549002267573696  topics:  ['tour', 'eastern', 'montana', 'weekend']\n",
      "chunk  36  duration  0.6619954648526077  topics:  ['okay', 'll']\n",
      "chunk  37  duration  15.444013605442176  topics:  ['bitcoin', 'joining', 'podcast', 'join']\n",
      "chunk  38  duration  39.69199546485261  topics:  ['jennings', 'musician', 'musicians', 'artist']\n",
      "chunk  39  duration  3.461995464852608  topics:  ['moon', 'right']\n",
      "chunk  40  duration  28.29299319727891  topics:  ['bitcoin', 'wallet', 'podcast', 'satoshi']\n"
     ]
    }
   ],
   "source": [
    "combined_segments = []\n",
    "for i,chunk,topics in chunk_topic_list:\n",
    "    print(\"chunk \", i , \" duration \", chunk.duration_seconds, \" topics: \",topics )\n"
   ],
   "metadata": {
    "collapsed": false
   }
  },
  {
   "cell_type": "code",
   "execution_count": 24,
   "outputs": [
    {
     "name": "stdout",
     "output_type": "stream",
     "text": [
      "segment_0.wav  duration  80.10498866213152\n",
      "1 shorter than 60secs\n",
      "1 topics ['music', 'london', 'corb', 'doing']\n",
      "1 previous topics  ['corb', 'bitcoin', 'podcast', 'listening']\n",
      "1  same topic as previous\n",
      "combining  1  with  0\n",
      "0   97.80199546485261\n",
      "segment_2.wav  duration  93.21600907029479\n",
      "segment_3.wav  duration  61.2409977324263\n",
      "4 shorter than 60secs\n",
      "4 topics ['canada', 'japan', 'australia', 'uk']\n",
      "4 previous topics  ['audience', 'culturally', 'diverse', 'music']\n",
      "4 NOT same topic as previous\n",
      "segment_5.wav  duration  156.40201814058958\n",
      "6 shorter than 60secs\n",
      "6 topics ['democratic', 'fork', 'source', 'really']\n",
      "6 previous topics  ['music', 'listening', 'bluegrass', 'rock']\n",
      "6 NOT same topic as previous\n",
      "7 shorter than 60secs\n",
      "7 topics ['watch', 'interesting', 'going', 'think']\n",
      "7 previous topics  ['democratic', 'fork', 'source', 'really']\n",
      "7 NOT same topic as previous\n",
      "8 shorter than 60secs\n",
      "8 topics ['bitcoin', 'cryptocurrencies', 'investing', 'future']\n",
      "8 previous topics  ['watch', 'interesting', 'going', 'think']\n",
      "8 NOT same topic as previous\n",
      "segment_9.wav  duration  86.6780045351474\n",
      "segment_10.wav  duration  146.33700680272108\n",
      "11 shorter than 60secs\n",
      "11 topics ['bitcoin', 'learn', 'say', 'regulated']\n",
      "11 previous topics  ['technologies', 'mp3s', 'ip3s', 'tech']\n",
      "11 NOT same topic as previous\n",
      "segment_12.wav  duration  85.36600907029478\n",
      "segment_13.wav  duration  104.8\n",
      "segment_14.wav  duration  65.1809977324263\n",
      "15 shorter than 60secs\n",
      "15 topics ['currency', 'inflation', 'civilizations', 'historically']\n",
      "15 previous topics  ['debt', 'globalized', 'trillion', 'ledger']\n",
      "15 NOT same topic as previous\n",
      "segment_16.wav  duration  63.3809977324263\n",
      "17 shorter than 60secs\n",
      "17 topics ['shopify', 'coin', 'definitely', 'transactions']\n",
      "17 previous topics  ['venezuela', 'euro', 'bitcoin', 'greece']\n",
      "17 NOT same topic as previous\n",
      "18 shorter than 60secs\n",
      "18 topics ['purchasing', 'amazon', 'buy', 'bitcoin']\n",
      "18 previous topics  ['shopify', 'coin', 'definitely', 'transactions']\n",
      "18 NOT same topic as previous\n",
      "19 shorter than 60secs\n",
      "19 topics ['bitcoin', 'shopify', 'investing', 'rural']\n",
      "19 previous topics  ['purchasing', 'amazon', 'buy', 'bitcoin']\n",
      "19  same topic as previous\n",
      "combining  19  with  18\n",
      "0   97.80199546485261\n",
      "1   93.21600907029479\n",
      "2   61.2409977324263\n",
      "3   156.40201814058958\n",
      "4   86.6780045351474\n",
      "5   146.33700680272108\n",
      "6   85.36600907029478\n",
      "7   104.8\n",
      "8   65.1809977324263\n",
      "9   116.5709977324263\n",
      "20 shorter than 60secs\n",
      "20 topics ['theorem', 'smart', 'mainstream', 'asking']\n",
      "20 previous topics  ['bitcoin', 'shopify', 'investing', 'rural']\n",
      "20 NOT same topic as previous\n",
      "21 shorter than 60secs\n",
      "21 topics ['bitcoin', 'fork', 'crypto', 'blockchain']\n",
      "21 previous topics  ['theorem', 'smart', 'mainstream', 'asking']\n",
      "21 NOT same topic as previous\n",
      "22 shorter than 60secs\n",
      "22 topics ['bitcoin', 'cash', 'future', 'predictions']\n",
      "22 previous topics  ['bitcoin', 'fork', 'crypto', 'blockchain']\n",
      "22  same topic as previous\n",
      "combining  22  with  21\n",
      "0   97.80199546485261\n",
      "1   93.21600907029479\n",
      "2   61.2409977324263\n",
      "3   156.40201814058958\n",
      "4   86.6780045351474\n",
      "5   146.33700680272108\n",
      "6   85.36600907029478\n",
      "7   104.8\n",
      "8   65.1809977324263\n",
      "9   125.56598639455783\n",
      "23 shorter than 60secs\n",
      "23 topics ['bitcoin', 'cash', 'decimal', 'grade']\n",
      "23 previous topics  ['bitcoin', 'cash', 'future', 'predictions']\n",
      "23  same topic as previous\n",
      "combining  23  with  22\n",
      "0   97.80199546485261\n",
      "1   93.21600907029479\n",
      "2   61.2409977324263\n",
      "3   156.40201814058958\n",
      "4   86.6780045351474\n",
      "5   146.33700680272108\n",
      "6   85.36600907029478\n",
      "7   104.8\n",
      "8   65.1809977324263\n",
      "9   166.48897959183674\n",
      "segment_24.wav  duration  97.42501133786848\n",
      "25 shorter than 60secs\n",
      "25 topics ['hope', 'sad', 'feel', 'actually']\n",
      "25 previous topics  ['slowing', 'core', 'lag', 'transactions']\n",
      "25 NOT same topic as previous\n",
      "segment_26.wav  duration  119.45897959183674\n",
      "27 shorter than 60secs\n",
      "27 topics ['art', 'did', 'yo', 'say']\n",
      "27 previous topics  ['bitcoin', 'cryptocurrencies', 'slowed', 'growth']\n",
      "27 NOT same topic as previous\n",
      "28 shorter than 60secs\n",
      "28 topics ['split', 'double', 'court', 'bigger']\n",
      "28 previous topics  ['art', 'did', 'yo', 'say']\n",
      "28 NOT same topic as previous\n",
      "29 shorter than 60secs\n",
      "29 topics ['bandwidth', 'segwit', 'narrow', 'bigger']\n",
      "29 previous topics  ['split', 'double', 'court', 'bigger']\n",
      "29  same topic as previous\n",
      "combining  29  with  28\n",
      "0   97.80199546485261\n",
      "1   93.21600907029479\n",
      "2   61.2409977324263\n",
      "3   156.40201814058958\n",
      "4   86.6780045351474\n",
      "5   146.33700680272108\n",
      "6   85.36600907029478\n",
      "7   104.8\n",
      "8   65.1809977324263\n",
      "9   166.48897959183674\n",
      "10   97.42501133786848\n",
      "11   134.63297052154195\n",
      "segment_30.wav  duration  183.3429931972789\n",
      "segment_31.wav  duration  91.14501133786848\n",
      "segment_32.wav  duration  62.959002267573695\n",
      "33 shorter than 60secs\n",
      "33 topics ['spotify', 'sure', 'records', 'corvlund']\n",
      "33 previous topics  ['bitcoin', 'fascinating', 'watching', 'watch']\n",
      "33 NOT same topic as previous\n",
      "34 shorter than 60secs\n",
      "34 topics ['touring', 'tour', 'songs', 'going']\n",
      "34 previous topics  ['spotify', 'sure', 'records', 'corvlund']\n",
      "34 NOT same topic as previous\n",
      "35 shorter than 60secs\n",
      "35 topics ['tour', 'eastern', 'montana', 'weekend']\n",
      "35 previous topics  ['touring', 'tour', 'songs', 'going']\n",
      "35  same topic as previous\n",
      "combining  35  with  34\n",
      "0   97.80199546485261\n",
      "1   93.21600907029479\n",
      "2   61.2409977324263\n",
      "3   156.40201814058958\n",
      "4   86.6780045351474\n",
      "5   146.33700680272108\n",
      "6   85.36600907029478\n",
      "7   104.8\n",
      "8   65.1809977324263\n",
      "9   166.48897959183674\n",
      "10   97.42501133786848\n",
      "11   134.63297052154195\n",
      "12   183.3429931972789\n",
      "13   91.14501133786848\n",
      "14   72.50800453514739\n",
      "36 shorter than 60secs\n",
      "36 topics ['okay', 'll']\n",
      "36 previous topics  ['tour', 'eastern', 'montana', 'weekend']\n",
      "36 NOT same topic as previous\n",
      "37 shorter than 60secs\n",
      "37 topics ['bitcoin', 'joining', 'podcast', 'join']\n",
      "37 previous topics  ['okay', 'll']\n",
      "37 NOT same topic as previous\n",
      "38 shorter than 60secs\n",
      "38 topics ['jennings', 'musician', 'musicians', 'artist']\n",
      "38 previous topics  ['bitcoin', 'joining', 'podcast', 'join']\n",
      "38 NOT same topic as previous\n",
      "39 shorter than 60secs\n",
      "39 topics ['moon', 'right']\n",
      "39 previous topics  ['jennings', 'musician', 'musicians', 'artist']\n",
      "39 NOT same topic as previous\n",
      "40 shorter than 60secs\n",
      "40 is 0 or  41\n",
      "combined_segments 40  duration  28.29299319727891\n",
      "segment_40.wav  duration  28.29299319727891\n"
     ]
    }
   ],
   "source": [
    "#remove old segments in folder\n",
    "mydir=\"./\"\n",
    "for f in os.listdir(mydir):\n",
    "    if not f.startswith(\"segment\"):\n",
    "        continue\n",
    "    os.remove(f)\n",
    "\n",
    "#find short chunks and combine with previous if is same topic\n",
    "combined_segments = []\n",
    "segment_list=[]\n",
    "for i,chunk,topics in chunk_topic_list:\n",
    "    #print(\"chunk \", i , \" duration \", chunk.duration_seconds, \" topics: \",topics )\n",
    "    if chunk.duration_seconds < 60:\n",
    "        print(i, \"shorter than 60secs\")\n",
    "        # if i > 0 and i < len(segments) - 1:\n",
    "        if 0 < i < len(chunk_topic_list) - 1:\n",
    "            #if topics are in combined_segments[-1] topic list\n",
    "            previous_topics = chunk_topic_list[i-1][2]\n",
    "            print(i, \"topics\", topics)\n",
    "            print(i, \"previous topics \", previous_topics)\n",
    "            topic_found = False\n",
    "            for local_topic in topics:\n",
    "                if local_topic in previous_topics:\n",
    "                    topic_found = True\n",
    "\n",
    "            if topic_found:\n",
    "                print(i,\" same topic as previous\")\n",
    "                combined_segments[-1] = combined_segments[-1] + chunk #+ chunk_topic_list[i+1]\n",
    "                print(\"combining \", i ,\" with \", i-1)\n",
    "                for j, combi_seg in enumerate(combined_segments):\n",
    "                    print(j, \" \",combi_seg.duration_seconds)\n",
    "            else:\n",
    "                print(i,\"NOT same topic as previous\")\n",
    "        else:\n",
    "            print(i, \"is 0 or \", len(chunk_topic_list) )\n",
    "            combined_segments.append(chunk)\n",
    "            print(\"combined_segments\", i , \" duration \", chunk.duration_seconds)\n",
    "            chunk.export(\"segment_{}{}.wav\".format(i,topics), format=\"wav\")\n",
    "            print(\"segment_{}.wav\".format(i), \" duration \", chunk.duration_seconds)\n",
    "            segment_list.append([i,chunk,topics])\n",
    "    else:\n",
    "        combined_segments.append(chunk)\n",
    "        chunk.export(\"segment_{}{}.wav\".format(i,topics), format=\"wav\")\n",
    "        print(\"segment_{}.wav\".format(i), \" duration \", chunk.duration_seconds)\n",
    "        segment_list.append([i,chunk,topics])\n",
    "\n"
   ],
   "metadata": {
    "collapsed": false
   }
  },
  {
   "cell_type": "code",
   "execution_count": 25,
   "outputs": [
    {
     "name": "stdout",
     "output_type": "stream",
     "text": [
      "0  duration: 80.10498866213152  topics ['corb', 'bitcoin', 'podcast', 'listening']\n",
      "2  duration: 93.21600907029479  topics ['music', 'radio', 'songwriting', 'underground']\n",
      "3  duration: 61.2409977324263  topics ['audience', 'culturally', 'diverse', 'music']\n",
      "5  duration: 156.40201814058958  topics ['music', 'listening', 'bluegrass', 'rock']\n",
      "9  duration: 86.6780045351474  topics ['casino', 'cryptocurrencies', 'transactions', 'vegas']\n",
      "10  duration: 146.33700680272108  topics ['technologies', 'mp3s', 'ip3s', 'tech']\n",
      "12  duration: 85.36600907029478  topics ['uber', 'bitcoin', 'cryptocurrencies', 'banking']\n",
      "13  duration: 104.8  topics ['bitcoin', 'coin', 'odds', 'funny']\n",
      "14  duration: 65.1809977324263  topics ['debt', 'globalized', 'trillion', 'ledger']\n",
      "16  duration: 63.3809977324263  topics ['venezuela', 'euro', 'bitcoin', 'greece']\n",
      "24  duration: 97.42501133786848  topics ['slowing', 'core', 'lag', 'transactions']\n",
      "26  duration: 119.45897959183674  topics ['bitcoin', 'cryptocurrencies', 'slowed', 'growth']\n",
      "30  duration: 183.3429931972789  topics ['crises', 'bitcoin', 'hopefully', 'happening']\n",
      "31  duration: 91.14501133786848  topics ['bitcoin', 'talk', 'say', 'money']\n",
      "32  duration: 62.959002267573695  topics ['bitcoin', 'fascinating', 'watching', 'watch']\n",
      "40 Should not be any. Maybe last one!\n"
     ]
    }
   ],
   "source": [
    "for i,chunk,topics in segment_list:\n",
    "    if chunk.duration_seconds < 60:\n",
    "        print(i, \"Should not be any. Maybe last one!\")\n",
    "    else:\n",
    "        print(i, \" duration:\", chunk.duration_seconds, \" topics\", topics)\n"
   ],
   "metadata": {
    "collapsed": false
   }
  },
  {
   "cell_type": "code",
   "execution_count": 26,
   "outputs": [
    {
     "name": "stdout",
     "output_type": "stream",
     "text": [
      "40 Should not be any. Maybe last one!\n"
     ]
    }
   ],
   "source": [
    "for i,chunk,topics in segment_list:\n",
    "    if chunk.duration_seconds < 60:\n",
    "        print(i, \"Should not be any. Maybe last one!\")\n",
    "    elif chunk.duration_seconds >= 300:\n",
    "        print(\"----->\",i, \" duration:\", chunk.duration_seconds, \" topics\", topics)\n"
   ],
   "metadata": {
    "collapsed": false
   }
  },
  {
   "cell_type": "code",
   "execution_count": 26,
   "outputs": [],
   "source": [],
   "metadata": {
    "collapsed": false
   }
  },
  {
   "cell_type": "code",
   "execution_count": 26,
   "outputs": [],
   "source": [],
   "metadata": {
    "collapsed": false
   }
  }
 ],
 "metadata": {
  "kernelspec": {
   "display_name": "Python 3.10.4 64-bit",
   "language": "python",
   "name": "python3"
  },
  "language_info": {
   "codemirror_mode": {
    "name": "ipython",
    "version": 3
   },
   "file_extension": ".py",
   "mimetype": "text/x-python",
   "name": "python",
   "nbconvert_exporter": "python",
   "pygments_lexer": "ipython3",
   "version": "3.10.4"
  },
  "orig_nbformat": 4,
  "vscode": {
   "interpreter": {
    "hash": "b8bea28108f2038d71d6c55dc1832caea8e99369792fc8ba76ab47212ed27435"
   }
  }
 },
 "nbformat": 4,
 "nbformat_minor": 2
}
